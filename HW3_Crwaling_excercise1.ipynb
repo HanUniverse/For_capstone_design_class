{
 "cells": [
  {
   "cell_type": "markdown",
   "id": "01786d8d",
   "metadata": {},
   "source": [
    "# Crwaling_excercise1 실습"
   ]
  },
  {
   "cell_type": "code",
   "execution_count": null,
   "id": "f8cfb7b3",
   "metadata": {},
   "outputs": [],
   "source": [
    "# Urllib"
   ]
  },
  {
   "cell_type": "code",
   "execution_count": 1,
   "id": "013054f7",
   "metadata": {},
   "outputs": [],
   "source": [
    "from urllib import request\n",
    "\n",
    "# urllib => URL을 다루는 다양한 모듈들을 모아 놓은 패키지\n",
    "# request => url의 데이터에 접근 및 인증, 쿠키 등 인터넷을 이용한 요청 및 처리 기능"
   ]
  },
  {
   "cell_type": "code",
   "execution_count": 4,
   "id": "dd709203",
   "metadata": {},
   "outputs": [
    {
     "name": "stdout",
     "output_type": "stream",
     "text": [
      "저장되었습니다.\n"
     ]
    }
   ],
   "source": [
    "# urllib.request를 이용한 다운로드\n",
    "url = \"http://uta.pw/shodou/img/28/214.png\"\n",
    "savename = \"test.png\"\n",
    "\n",
    "request.urlretrieve(url, savename) #urlretrieve - URL로 표시된 네트워크 캑체를 로컬 파일로 저장 -> 직접 다운로드 가능!\n",
    "                                   # 튜플로 반환 & 많은양의 데이터를 한번에 저장할 때 사용\n",
    "print(\"저장되었습니다.\")"
   ]
  },
  {
   "cell_type": "code",
   "execution_count": 7,
   "id": "d47e4fb2",
   "metadata": {},
   "outputs": [
    {
     "name": "stdout",
     "output_type": "stream",
     "text": [
      "저장되었습니다..\n"
     ]
    }
   ],
   "source": [
    "# urlopen으로 파일에 저장\n",
    "url = \"http://uta.pw/shodou/img/28/214.png\"\n",
    "savename = \"test1.png\"\n",
    "\n",
    "men = request.urlopen(url).read() # urlopen - URL로 표시된 네트워크 객체를 파이썬 실행환경의 메모리로 로드!\n",
    "                                  # 메모리에 데이터를 올린 다음에 파일로 저장!\n",
    "\n",
    "with open(savename, mode=\"wb\") as f:\n",
    "    f.write(men)\n",
    "    print(\"저장되었습니다..\")"
   ]
  },
  {
   "cell_type": "markdown",
   "id": "8c82c992",
   "metadata": {},
   "source": [
    "### API 사용하기"
   ]
  },
  {
   "cell_type": "code",
   "execution_count": 9,
   "id": "bf0ccf7a",
   "metadata": {},
   "outputs": [
    {
     "name": "stdout",
     "output_type": "stream",
     "text": [
      "[ip]\n",
      "API_URI=http://api.aoikujira.com/ip/get.php\n",
      "REMOTE_ADDR=61.105.2.25\n",
      "REMOTE_HOST=61.105.2.25\n",
      "REMOTE_PORT=33560\n",
      "HTTP_HOST=api.aoikujira.com\n",
      "HTTP_USER_AGENT=Python-urllib/3.8\n",
      "HTTP_ACCEPT_LANGUAGE=\n",
      "HTTP_ACCEPT_CHARSET=\n",
      "SERVER_PORT=80\n",
      "FORMAT=ini\n",
      "\n",
      "\n"
     ]
    }
   ],
   "source": [
    "url=\"http://api.aoikujira.com/ip/ini\"\n",
    "res=request.urlopen(url) #urlopen으로 해당 URL 네트워크 객체 불러오기\n",
    "data=res.read()\n",
    "\n",
    "text=data.decode(\"utf-8\")\n",
    "print(text)"
   ]
  },
  {
   "cell_type": "markdown",
   "id": "2ace3876",
   "metadata": {},
   "source": [
    "# BeautifulSoup"
   ]
  },
  {
   "cell_type": "code",
   "execution_count": 1,
   "id": "7b57fa5b",
   "metadata": {},
   "outputs": [],
   "source": [
    "from bs4 import BeautifulSoup\n",
    "#HTML, XML에서 정보를 추출할 수 있도록 도와줌 -> 다운로드 기능은 없음 \n"
   ]
  },
  {
   "cell_type": "code",
   "execution_count": 3,
   "id": "bff8b4f5",
   "metadata": {},
   "outputs": [],
   "source": [
    "html = \"\"\"\n",
    "<html><body>\n",
    "  <h1>스크레이핑이란?</h1>\n",
    "  <p>웹 페이지를 분석하는 것</p>\n",
    "  <p>원하는 부분을 추출하는 것</p>\n",
    "</body></html>\n",
    "\"\"\""
   ]
  },
  {
   "cell_type": "code",
   "execution_count": 4,
   "id": "97a58bbd",
   "metadata": {},
   "outputs": [],
   "source": [
    "# HTML 분석하기\n",
    "soup = BeautifulSoup(html, 'html.parser') #beautifulSoup을 활용하여 html분석을 위한 준비"
   ]
  },
  {
   "cell_type": "code",
   "execution_count": 5,
   "id": "6e0f7b8b",
   "metadata": {},
   "outputs": [],
   "source": [
    "#원하는 부분 추출하기\n",
    "h1 = soup.html.body.h1 #soup에서 <html><body><h1> 부분 추출\n",
    "p1 = soup.html.body.p  #soup에서 <html><body><p> 부분 모두추출\n",
    "p2 = p1.next_sibling.next_sibling #next_sibling 을 두번 사용하여 두번째 p부분을 추출"
   ]
  },
  {
   "cell_type": "code",
   "execution_count": 16,
   "id": "992cf54c",
   "metadata": {},
   "outputs": [
    {
     "name": "stdout",
     "output_type": "stream",
     "text": [
      "h1 = 스크레이핑이란?\n",
      "p  = 웹 페이지를 분석하는 것\n",
      "p  = 원하는 부분을 추출하는 것\n"
     ]
    }
   ],
   "source": [
    "#요소의 글자 출력\n",
    "print(f\"h1 = {h1.string}\")\n",
    "print(f\"p  = {p1.string}\")\n",
    "print(f\"p  = {p2.string}\")"
   ]
  },
  {
   "cell_type": "markdown",
   "id": "2807f0b3",
   "metadata": {},
   "source": [
    "### 요소를 찾는 method"
   ]
  },
  {
   "cell_type": "code",
   "execution_count": 6,
   "id": "88408315",
   "metadata": {},
   "outputs": [
    {
     "name": "stdout",
     "output_type": "stream",
     "text": [
      "<h1>스크레이핑이란?</h1>\n",
      "#title = 스크레이핑이란?\n",
      "#body = 웹 페이지를 분석하는 것\n"
     ]
    }
   ],
   "source": [
    "soup = BeautifulSoup(html, 'html.parser')\n",
    "\n",
    "#find()로 원하는 부분 추출\n",
    "title = soup.find(\"h1\") #find를 활용하여 html속 h1부분을 추출 \n",
    "body  = soup.find(\"p\") #find를 활용하여 html속 p부분을 추출\n",
    "print(title)\n",
    "\n",
    "#텍스트 부분 출력\n",
    "print(f\"#title = {title.string}\" ) #title에서 <h1>과 </h1>을 제외한 텍스트 부분만 \n",
    "print(f\"#body = {body.string}\")\n"
   ]
  },
  {
   "cell_type": "markdown",
   "id": "c99e8bcf",
   "metadata": {},
   "source": [
    "### 복수 elements 추출 - find_all()"
   ]
  },
  {
   "cell_type": "code",
   "execution_count": 18,
   "id": "0a02e297",
   "metadata": {},
   "outputs": [],
   "source": [
    "html = \"\"\"\n",
    "<html><body>\n",
    "  <ul>\n",
    "    <li><a href=\"http://www.naver.com\">naver</a></li>\n",
    "    <li><a href=\"http://www.daum.net\">daum</a></li>\n",
    "  </ul>\n",
    "</body></html>\n",
    "\"\"\"\n",
    "\n",
    "soup = BeautifulSoup(html, 'html.parser')"
   ]
  },
  {
   "cell_type": "code",
   "execution_count": 20,
   "id": "15661e16",
   "metadata": {},
   "outputs": [
    {
     "name": "stdout",
     "output_type": "stream",
     "text": [
      "[<a href=\"http://www.naver.com\">naver</a>, <a href=\"http://www.daum.net\">daum</a>] 2\n",
      "naver > http://www.naver.com\n",
      "daum > http://www.daum.net\n"
     ]
    }
   ],
   "source": [
    "#find_all()\n",
    "links = soup.find_all(\"a\") #<a></a>로 묶인 부분을 모두 추출 \n",
    "print(links, len(links))\n",
    "\n",
    "#링크 목록 출력\n",
    "for a in links:\n",
    "    href = a.attrs['href'] #<href>속성에 있는 모든 속성값들을 추출한다\n",
    "    text = a.string \n",
    "    print(text, \">\", href)"
   ]
  },
  {
   "cell_type": "markdown",
   "id": "be3937c6",
   "metadata": {},
   "source": [
    "# Css Selector"
   ]
  },
  {
   "cell_type": "markdown",
   "id": "da5023f7",
   "metadata": {},
   "source": [
    "## BeautifulSoup에서 Css Selector 사용"
   ]
  },
  {
   "cell_type": "code",
   "execution_count": 10,
   "id": "81ad0eda",
   "metadata": {},
   "outputs": [],
   "source": [
    "html = \"\"\"\n",
    "<html><body>\n",
    "<div id=\"meigen\">\n",
    "  <h1>위키북스 도서</h1>\n",
    "  <ul class=\"items\">\n",
    "    <li>유니티 게임 이펙트 입문</li>\n",
    "    <li>스위프트로 시작하는 아이폰 앱 개발 교과서</li>\n",
    "    <li>모던 웹사이트 디자인의 정석</li>\n",
    "  </ul>\n",
    "</div>\n",
    "</body></html>\n",
    "\"\"\"\n",
    "\n",
    "# HTML 분석\n",
    "soup = BeautifulSoup(html, 'html.parser')"
   ]
  },
  {
   "cell_type": "code",
   "execution_count": 11,
   "id": "7eaa6972",
   "metadata": {},
   "outputs": [
    {
     "name": "stdout",
     "output_type": "stream",
     "text": [
      "h1 = 위키북스 도서\n"
     ]
    }
   ],
   "source": [
    "# 타이틀 부분 추출하기 \n",
    "h1 = soup.select_one(\"div#meigen > h1\").string  #soup.select_one으로 요소 하나만 추출 \n",
    "print(f\"h1 = {h1}\")"
   ]
  },
  {
   "cell_type": "code",
   "execution_count": 12,
   "id": "1ebf96a9",
   "metadata": {},
   "outputs": [
    {
     "name": "stdout",
     "output_type": "stream",
     "text": [
      "li = 유니티 게임 이펙트 입문\n",
      "li = 스위프트로 시작하는 아이폰 앱 개발 교과서\n",
      "li = 모던 웹사이트 디자인의 정석\n"
     ]
    }
   ],
   "source": [
    "# 목록 부분 추출하기 \n",
    "li_list = soup.select(\"div#meigen > ul.items > li\") #soup.select로 모든 요소를 리스트로 추출\n",
    "for li in li_list:\n",
    "  print(f\"li = {li.string}\")"
   ]
  },
  {
   "cell_type": "markdown",
   "id": "3e1c1a15",
   "metadata": {},
   "source": [
    "# 활용 예제"
   ]
  },
  {
   "cell_type": "code",
   "execution_count": 39,
   "id": "00c0388d",
   "metadata": {},
   "outputs": [],
   "source": [
    "from bs4 import BeautifulSoup \n",
    "from urllib import request, parse"
   ]
  },
  {
   "cell_type": "markdown",
   "id": "a4bde248",
   "metadata": {},
   "source": [
    "## 네이버 금융 - 환율 정보 추출"
   ]
  },
  {
   "cell_type": "code",
   "execution_count": 15,
   "id": "5d79c4e4",
   "metadata": {},
   "outputs": [],
   "source": [
    "#네이버 금융의 시장지표 페이지 불러오기!\n",
    "# urlopen()을 활용하여 네이버 금융의 '시장지표'를 불러온다\n",
    "url = \"https://finance.naver.com/marketindex/\"\n",
    "res = request.urlopen(url) "
   ]
  },
  {
   "cell_type": "code",
   "execution_count": 17,
   "id": "affeb73c",
   "metadata": {},
   "outputs": [],
   "source": [
    "soup = BeautifulSoup(res, \"html.parser\") #Beautifulsoup을 활용하여 html 분석"
   ]
  },
  {
   "cell_type": "code",
   "execution_count": 18,
   "id": "6b721a7f",
   "metadata": {},
   "outputs": [
    {
     "name": "stdout",
     "output_type": "stream",
     "text": [
      "usd/krw = 1,174.00\n"
     ]
    }
   ],
   "source": [
    "price = soup.select_one(\"div.head_info > span.value\").string \n",
    "print(\"usd/krw =\", price) #해당 페이지의 html을 활용하여 당일 환율을 추출"
   ]
  },
  {
   "cell_type": "markdown",
   "id": "a56eee44",
   "metadata": {},
   "source": [
    "## 기상청 RSS"
   ]
  },
  {
   "cell_type": "code",
   "execution_count": 62,
   "id": "b471e766",
   "metadata": {},
   "outputs": [
    {
     "name": "stdout",
     "output_type": "stream",
     "text": [
      "url= http://www.kma.go.kr/weather/forecast/mid-term-rss3.jsp?stnId=109\n"
     ]
    }
   ],
   "source": [
    "#HTML 불러오기\n",
    "url = \"http://www.kma.go.kr/weather/forecast/mid-term-rss3.jsp\"\n",
    "#기상청의 중기예보 정보를 불러온다\n",
    "\n",
    "#매개변수를 URL로 인코딩한다.\n",
    "values = {\n",
    "    'stnId':'109'\n",
    "}\n",
    "\n",
    "params=parse.urlencode(values) #설정한 매개변수로 url을 인코딩!\n",
    "url += \"?\"+params \n",
    "print(\"url=\", url)\n",
    "\n",
    "res = request.urlopen(url)"
   ]
  },
  {
   "cell_type": "code",
   "execution_count": 63,
   "id": "883e4d6d",
   "metadata": {},
   "outputs": [],
   "source": [
    "soup = BeautifulSoup(res, \"html.parser\") #BeautifulSoup을 통하여 HTML 파일 분석"
   ]
  },
  {
   "cell_type": "code",
   "execution_count": 64,
   "id": "298b88ae",
   "metadata": {},
   "outputs": [
    {
     "name": "stdout",
     "output_type": "stream",
     "text": [
      "서울,경기도 육상중기예보\n",
      "○ (강수) 29일(수) 오후에는 비가 내리겠습니다.<br />○ (기온) 이번 예보기간 아침최저기온은 14~20도, 낮최고기온은 24~27도로 오늘(23일, 아침최저기온 14~19도, 낮최고기온 25~26도)과 비슷하겠습니다.<br />○ (해상) 서해중부해상의 물결은 1.0~2.0m로 일겠습니다.\n"
     ]
    }
   ],
   "source": [
    "header = soup.find(\"header\")\n",
    "\n",
    "title = header.find(\"title\").text #header속 title 속성의 text를 불러온다.\n",
    "wf = header.find(\"wf\").text\n",
    "\n",
    "print(title)\n",
    "print(wf)\n"
   ]
  },
  {
   "cell_type": "code",
   "execution_count": 71,
   "id": "7982f9eb",
   "metadata": {},
   "outputs": [
    {
     "name": "stdout",
     "output_type": "stream",
     "text": [
      "서울,경기도 육상중기예보\n",
      "○ (강수) 29일(수) 오후에는 비가 내리겠습니다.<br />○ (기온) 이번 예보기간 아침최저기온은 14~20도, 낮최고기온은 24~27도로 오늘(23일, 아침최저기온 14~19도, 낮최고기온 25~26도)과 비슷하겠습니다.<br />○ (해상) 서해중부해상의 물결은 1.0~2.0m로 일겠습니다.\n"
     ]
    }
   ],
   "source": [
    "title = soup.select_one(\"header > title\").text #select_one을 활용하여 header속성의 title속성 속 요소를 불러옴 \n",
    "wf = header.select_one(\"wf\").text\n",
    "\n",
    "print(title)\n",
    "print(wf)\n"
   ]
  },
  {
   "cell_type": "markdown",
   "id": "43b43e3f",
   "metadata": {},
   "source": [
    "## 윤동주 작가의 작품 목록"
   ]
  },
  {
   "cell_type": "code",
   "execution_count": 72,
   "id": "1ccf3157",
   "metadata": {},
   "outputs": [
    {
     "name": "stdout",
     "output_type": "stream",
     "text": [
      "- 하늘과 바람과 별과 시\n",
      "- 증보판\n",
      "- 서시\n",
      "- 자화상\n",
      "- 소년\n",
      "- 눈 오는 지도\n",
      "- 돌아와 보는 밤\n",
      "- 병원\n",
      "- 새로운 길\n",
      "- 간판 없는 거리\n",
      "- 태초의 아침\n",
      "- 또 태초의 아침\n",
      "- 새벽이 올 때까지\n",
      "- 무서운 시간\n",
      "- 십자가\n",
      "- 바람이 불어\n",
      "- 슬픈 족속\n",
      "- 눈감고 간다\n",
      "- 또 다른 고향\n",
      "- 길\n",
      "- 별 헤는 밤\n",
      "- 흰 그림자\n",
      "- 사랑스런 추억\n",
      "- 흐르는 거리\n",
      "- 쉽게 씌어진 시\n",
      "- 봄\n",
      "- 참회록\n",
      "- 간(肝)\n",
      "- 위로\n",
      "- 팔복\n",
      "- 못자는밤\n",
      "- 달같이\n",
      "- 고추밭\n",
      "- 아우의 인상화\n",
      "- 사랑의 전당\n",
      "- 이적\n",
      "- 비오는 밤\n",
      "- 산골물\n",
      "- 유언\n",
      "- 창\n",
      "- 바다\n",
      "- 비로봉\n",
      "- 산협의 오후\n",
      "- 명상\n",
      "- 소낙비\n",
      "- 한난계\n",
      "- 풍경\n",
      "- 달밤\n",
      "- 장\n",
      "- 밤\n",
      "- 황혼이 바다가 되어\n",
      "- 아침\n",
      "- 빨래\n",
      "- 꿈은 깨어지고\n",
      "- 산림\n",
      "- 이런날\n",
      "- 산상\n",
      "- 양지쪽\n",
      "- 닭\n",
      "- 가슴 1\n",
      "- 가슴 2\n",
      "- 비둘기\n",
      "- 황혼\n",
      "- 남쪽 하늘\n",
      "- 창공\n",
      "- 거리에서\n",
      "- 삶과 죽음\n",
      "- 초한대\n",
      "- 산울림\n",
      "- 해바라기 얼굴\n",
      "- 귀뚜라미와 나와\n",
      "- 애기의 새벽\n",
      "- 햇빛·바람\n",
      "- 반디불\n",
      "- 둘 다\n",
      "- 거짓부리\n",
      "- 눈\n",
      "- 참새\n",
      "- 버선본\n",
      "- 편지\n",
      "- 봄\n",
      "- 무얼 먹구 사나\n",
      "- 굴뚝\n",
      "- 햇비\n",
      "- 빗자루\n",
      "- 기왓장 내외\n",
      "- 오줌싸개 지도\n",
      "- 병아리\n",
      "- 조개껍질\n",
      "- 겨울\n",
      "- 트루게네프의 언덕\n",
      "- 달을 쏘다\n",
      "- 별똥 떨어진 데\n",
      "- 화원에 꽃이 핀다\n",
      "- 종시\n"
     ]
    }
   ],
   "source": [
    "\n",
    "url = \"https://ko.wikisource.org/wiki/%EC%A0%80%EC%9E%90:%EC%9C%A4%EB%8F%99%EC%A3%BC\"\n",
    "#위키백과의 윤동주 시인의 페이지를 불러온다. \n",
    "res = request.urlopen(url)\n",
    "soup = BeautifulSoup(res, \"html.parser\")\n",
    "\n",
    "a_list = soup.select(\"#mw-content-text   ul > li  a\") #id가 'mw-content-text'인 속성 아래에 있는 부분을 불러온다\n",
    "                                                     #이때, ul태그 - li 태그 순으로 들어가 <a></a>속성을 모두 불러온다. \n",
    "for a in a_list:\n",
    "    name = a.string\n",
    "    print(f\"- {name}\", )"
   ]
  },
  {
   "cell_type": "markdown",
   "id": "bfee79ec",
   "metadata": {},
   "source": [
    "----"
   ]
  },
  {
   "cell_type": "markdown",
   "id": "275f9cf0",
   "metadata": {},
   "source": [
    "## 일반문제"
   ]
  },
  {
   "cell_type": "code",
   "execution_count": 73,
   "id": "ad103e33",
   "metadata": {},
   "outputs": [],
   "source": [
    "from bs4 import BeautifulSoup\n",
    "from urllib import request"
   ]
  },
  {
   "cell_type": "markdown",
   "id": "4b96fc45",
   "metadata": {},
   "source": [
    "### 1. 네이버 뉴스 헤드라인"
   ]
  },
  {
   "cell_type": "markdown",
   "id": "66ea2d1d",
   "metadata": {},
   "source": [
    "#### Q. 다읨의 코드에 css selector를 추가하여 최신 기사의 헤드라인을 스크레이핑하는 코드를 완성하시오."
   ]
  },
  {
   "cell_type": "code",
   "execution_count": 78,
   "id": "6eccada6",
   "metadata": {},
   "outputs": [
    {
     "name": "stdout",
     "output_type": "stream",
     "text": [
      "\n",
      "                                        문대통령 종전선언 제안에…여지 남긴 미국\n",
      "                                    \n",
      "\n",
      "                                        남양주시, ‘집사부일체’ 이재명 편 ‘계곡 정비’ 내용 방송중단 요청\n",
      "                                    \n",
      "\n",
      "                                        檢, '대장동 개발 특혜 의혹' 수사 착수…김기현 고발건 배당\n",
      "                                    \n",
      "\n",
      "                                        가정용 月평균 600원, 산업용 2만8천원 올라 [전기요금 8년만에 인상]\n",
      "                                    \n",
      "\n",
      "                                        홍준표·원희룡·유승민 \"尹, 대선공약 표절\" vs. 尹 \"표절 아냐…일일이 인터뷰\"\n",
      "                                    \n"
     ]
    }
   ],
   "source": [
    "url = \"https://news.naver.com/\"\n",
    "\n",
    "res = request.urlopen(url)\n",
    "soup = BeautifulSoup(res, \"html.parser\")\n",
    "\n",
    "selector = \"#today_main_news > div.hdline_news > ul > li > div.hdline_article_tit > a\"\n",
    "#html에서 불러올 부분의 값을 지정해줌\n",
    "\n",
    "for a in soup.select(selector):\n",
    "    title = a.text\n",
    "    print(title)"
   ]
  },
  {
   "cell_type": "markdown",
   "id": "b62ab272",
   "metadata": {},
   "source": [
    "### 2. 시민의 소리 게시판"
   ]
  },
  {
   "cell_type": "markdown",
   "id": "fdcf44d4",
   "metadata": {},
   "source": [
    "#### Q. 다음의 코드에 css selector를 추가하여 해당 페이지에서 게시글의 제목을 스크레이핑하는 코드를 완성하시오. 또한 과제 제출시 하단의 추가 내용을 참고하여 수집한 데이터를 csv 형태로 저장하여 해당 csv 파일도 함께 제출하시오."
   ]
  },
  {
   "cell_type": "code",
   "execution_count": 80,
   "id": "81e7955a",
   "metadata": {},
   "outputs": [
    {
     "name": "stdout",
     "output_type": "stream",
     "text": [
      "['어린이를 위한 공원내 식당에 아기를 위한 시설 부족(아기의자가 왜 없죠?)', '강창수 해설사님 ', '동물해설사님 칭찬', '강창수 동물 해설사님', '놀이동산 푸드코트 김치가 중국산인 이유는?', '주슨트 설명 최고예요!!', '강창수 주슨트님 최고 !!', 'ZOOCENT 스케줄표?', '호주동물 호주설명 ', '호주및 호주동물 설명에 대해 '] ['https://www.sisul.or.kr/open_content/childrenpark/qna/qnaMsgDetail.do;jsessionid=GuxtHP1ecL450sAyhIfeSt0FjGojcvqNZgfOWweiYzY7izdJptTN56w6kCi8e8gY.etisw2_servlet_user?qnaid=QNAS20210923000005&pgno=1', 'https://www.sisul.or.kr/open_content/childrenpark/qna/qnaMsgDetail.do;jsessionid=GuxtHP1ecL450sAyhIfeSt0FjGojcvqNZgfOWweiYzY7izdJptTN56w6kCi8e8gY.etisw2_servlet_user?qnaid=QNAS20210920000001&pgno=1', 'https://www.sisul.or.kr/open_content/childrenpark/qna/qnaMsgDetail.do;jsessionid=GuxtHP1ecL450sAyhIfeSt0FjGojcvqNZgfOWweiYzY7izdJptTN56w6kCi8e8gY.etisw2_servlet_user?qnaid=QNAS20210919000004&pgno=1', 'https://www.sisul.or.kr/open_content/childrenpark/qna/qnaMsgDetail.do;jsessionid=GuxtHP1ecL450sAyhIfeSt0FjGojcvqNZgfOWweiYzY7izdJptTN56w6kCi8e8gY.etisw2_servlet_user?qnaid=QNAS20210919000003&pgno=1', 'https://www.sisul.or.kr/open_content/childrenpark/qna/qnaMsgDetail.do;jsessionid=GuxtHP1ecL450sAyhIfeSt0FjGojcvqNZgfOWweiYzY7izdJptTN56w6kCi8e8gY.etisw2_servlet_user?qnaid=QNAS20210918000002&pgno=1', 'https://www.sisul.or.kr/open_content/childrenpark/qna/qnaMsgDetail.do;jsessionid=GuxtHP1ecL450sAyhIfeSt0FjGojcvqNZgfOWweiYzY7izdJptTN56w6kCi8e8gY.etisw2_servlet_user?qnaid=QNAS20210909000001&pgno=1', 'https://www.sisul.or.kr/open_content/childrenpark/qna/qnaMsgDetail.do;jsessionid=GuxtHP1ecL450sAyhIfeSt0FjGojcvqNZgfOWweiYzY7izdJptTN56w6kCi8e8gY.etisw2_servlet_user?qnaid=QNAS20210908000004&pgno=1', 'https://www.sisul.or.kr/open_content/childrenpark/qna/qnaMsgDetail.do;jsessionid=GuxtHP1ecL450sAyhIfeSt0FjGojcvqNZgfOWweiYzY7izdJptTN56w6kCi8e8gY.etisw2_servlet_user?qnaid=QNAS20210906000002&pgno=1', 'https://www.sisul.or.kr/open_content/childrenpark/qna/qnaMsgDetail.do;jsessionid=GuxtHP1ecL450sAyhIfeSt0FjGojcvqNZgfOWweiYzY7izdJptTN56w6kCi8e8gY.etisw2_servlet_user?qnaid=QNAS20210904000006&pgno=1', 'https://www.sisul.or.kr/open_content/childrenpark/qna/qnaMsgDetail.do;jsessionid=GuxtHP1ecL450sAyhIfeSt0FjGojcvqNZgfOWweiYzY7izdJptTN56w6kCi8e8gY.etisw2_servlet_user?qnaid=QNAS20210904000004&pgno=1']\n"
     ]
    }
   ],
   "source": [
    "url_head = \"https://www.sisul.or.kr\"\n",
    "\n",
    "url_board = url_head + \"/open_content/childrenpark/qna/qnaMsgList.do?pgno=1\"\n",
    "\n",
    "\n",
    "\n",
    "res = request.urlopen(url_board)\n",
    "soup = BeautifulSoup(res, \"html.parser\")\n",
    "\n",
    "\n",
    "selector = \"#detail_con > div.generalboard > table > tbody > tr > td.left.title > a\"\n",
    "#불러온 html에서 뽑아올 특정 부분을 특정한다.\n",
    "\n",
    "titles = []\n",
    "links = []\n",
    "for a in soup.select(selector):\n",
    "    titles.append(a.text) #제목 부분을 불러온다. \n",
    "    links.append(url_head + a.attrs[\"href\"]) #제목에 맞는 링크를 불러온다. \n",
    "    \n",
    "print(titles, links)\n"
   ]
  },
  {
   "cell_type": "markdown",
   "id": "5d241f46",
   "metadata": {},
   "source": [
    "### 추가내용 "
   ]
  },
  {
   "cell_type": "code",
   "execution_count": 82,
   "id": "a3d2d70b",
   "metadata": {},
   "outputs": [
    {
     "data": {
      "text/html": [
       "<div>\n",
       "<style scoped>\n",
       "    .dataframe tbody tr th:only-of-type {\n",
       "        vertical-align: middle;\n",
       "    }\n",
       "\n",
       "    .dataframe tbody tr th {\n",
       "        vertical-align: top;\n",
       "    }\n",
       "\n",
       "    .dataframe thead th {\n",
       "        text-align: right;\n",
       "    }\n",
       "</style>\n",
       "<table border=\"1\" class=\"dataframe\">\n",
       "  <thead>\n",
       "    <tr style=\"text-align: right;\">\n",
       "      <th></th>\n",
       "      <th>title</th>\n",
       "      <th>link</th>\n",
       "    </tr>\n",
       "  </thead>\n",
       "  <tbody>\n",
       "    <tr>\n",
       "      <th>0</th>\n",
       "      <td>어린이를 위한 공원내 식당에 아기를 위한 시설 부족(아기의자가 왜 없죠?)</td>\n",
       "      <td>https://www.sisul.or.kr/open_content/childrenp...</td>\n",
       "    </tr>\n",
       "    <tr>\n",
       "      <th>1</th>\n",
       "      <td>강창수 해설사님</td>\n",
       "      <td>https://www.sisul.or.kr/open_content/childrenp...</td>\n",
       "    </tr>\n",
       "    <tr>\n",
       "      <th>2</th>\n",
       "      <td>동물해설사님 칭찬</td>\n",
       "      <td>https://www.sisul.or.kr/open_content/childrenp...</td>\n",
       "    </tr>\n",
       "    <tr>\n",
       "      <th>3</th>\n",
       "      <td>강창수 동물 해설사님</td>\n",
       "      <td>https://www.sisul.or.kr/open_content/childrenp...</td>\n",
       "    </tr>\n",
       "    <tr>\n",
       "      <th>4</th>\n",
       "      <td>놀이동산 푸드코트 김치가 중국산인 이유는?</td>\n",
       "      <td>https://www.sisul.or.kr/open_content/childrenp...</td>\n",
       "    </tr>\n",
       "  </tbody>\n",
       "</table>\n",
       "</div>"
      ],
      "text/plain": [
       "                                       title  \\\n",
       "0  어린이를 위한 공원내 식당에 아기를 위한 시설 부족(아기의자가 왜 없죠?)   \n",
       "1                                  강창수 해설사님    \n",
       "2                                  동물해설사님 칭찬   \n",
       "3                                강창수 동물 해설사님   \n",
       "4                    놀이동산 푸드코트 김치가 중국산인 이유는?   \n",
       "\n",
       "                                                link  \n",
       "0  https://www.sisul.or.kr/open_content/childrenp...  \n",
       "1  https://www.sisul.or.kr/open_content/childrenp...  \n",
       "2  https://www.sisul.or.kr/open_content/childrenp...  \n",
       "3  https://www.sisul.or.kr/open_content/childrenp...  \n",
       "4  https://www.sisul.or.kr/open_content/childrenp...  "
      ]
     },
     "execution_count": 82,
     "metadata": {},
     "output_type": "execute_result"
    }
   ],
   "source": [
    "import pandas as pd\n",
    "\n",
    "#위에서 불러온 제목과 링크를 '데이터프레임'형태로 저장한다.\n",
    "board_df = pd.DataFrame({\"title\": titles, \"link\": links})\n",
    "board_df.head()"
   ]
  },
  {
   "cell_type": "code",
   "execution_count": 83,
   "id": "ad3adf6b",
   "metadata": {},
   "outputs": [],
   "source": [
    "board_df.to_csv(\"board.csv\", index=False) #csv형태로 저장"
   ]
  },
  {
   "cell_type": "code",
   "execution_count": null,
   "id": "7a9ca6ed",
   "metadata": {},
   "outputs": [],
   "source": []
  }
 ],
 "metadata": {
  "kernelspec": {
   "display_name": "Python 3 (ipykernel)",
   "language": "python",
   "name": "python3"
  },
  "language_info": {
   "codemirror_mode": {
    "name": "ipython",
    "version": 3
   },
   "file_extension": ".py",
   "mimetype": "text/x-python",
   "name": "python",
   "nbconvert_exporter": "python",
   "pygments_lexer": "ipython3",
   "version": "3.8.6"
  }
 },
 "nbformat": 4,
 "nbformat_minor": 5
}
