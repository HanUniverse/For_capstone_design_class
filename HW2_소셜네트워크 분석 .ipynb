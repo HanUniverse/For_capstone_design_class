{
 "cells": [
  {
   "cell_type": "markdown",
   "metadata": {},
   "source": [
    "# 소셜 네트워크 분석 - 이론 정리 \n",
    "\n",
    "## 네트워크 : 각각의 객체들이 상호 연결된 구조\n",
    ">  #### 네트워크의 구성 요소 \n",
    "      1) node: 고유한 속성을 가지고 있는 행위자 \n",
    "      2) 링크: 노드들간의 관계 \n",
    "\n",
    "--------------\n",
    "\n",
    "## 네트워크를 표현하는 수단: '그래프'와 '행렬' \n",
    "## *그래프*\n",
    "> ### 방향성의 유무\n",
    "> #### 무방향(undirected) 네트워크 : 책, 논문의 공저자, SNS 친구관계 등의 **방향성이 없는 네트워크**\n",
    "> #### 방향(directed) 네트워크 : 인터넷 주소의 하이퍼링크, 전화통화 네트워크, SNS 리트윗, 팔로딩 네트워크 등 **방향성이 존재하는 네트워크**\n",
    "\n",
    "> ### 관계의 유무 & 관계의 정도 \n",
    "> #### 이진(Binary) 네트워크 : 오직 관계의 유무만 표현\n",
    "> #### 가중(Valued) 네트워크 : 관계의 정도를 함꼐 표시 - 가중치 직접 표시 or 선의 굵기로 표시 \n",
    "\n",
    "## *행렬*\n",
    "> ### 인접행렬 Adjacency matrix\n",
    "> #### 인접한 노드들 간의 연결 관계를 행렬(Matrix)로 표현 - n X n 정방 행렬로 표현\n",
    "\n",
    "> ### 노드 리스트 Node list \n",
    "> #### 인접한 링크가 있는 노드들만 표기 \n",
    "\n",
    "> ### 엣지 리스트 Edge list \n",
    "> #### 노드들을 연결한 링크들의 리스트 (링크를 기준) - 고립된 노드들은 리스트에서 제외됨 \n",
    "\n",
    "----------------------\n",
    "\n",
    "\n",
    "## 네트워크 수준의 속성 \n",
    "> ### *네트워크 크기* : 네트워크를 구성하는 노드들의 수 \n",
    ">> ### 최대 연결관계의 수 \n",
    "        1) 방향성이 있는 경우: n X (n-1)\n",
    "        2) 방향성이 없는 경우: n X (n-1)/2\n",
    "\n",
    "> ### *네트워크 밀도* : 네트워크를 구성하고 있는 노드들 간의 연결된 정도 \n",
    ">> ### 노드들 간의 연결이 많아질수록 밀도가 높아짐!\n",
    ">> ### 네트워크 밀도의 계산 (k: 실제 연결된 링크의 수, n: 노드의 수) \n",
    "        1) 무방향 이진 네트워크의 밀도: k/{n x (n-1)/2}\n",
    "        2) 방향 이진 네트워크의 밀도: k/{n x (n-1)}\n",
    "        \n",
    "> ### *포괄성 (Inclusivness)* : 총 노드의 개수 중에서 실제로 연결 관계가 존재하는 노드의 개수가 차지하는 비율 \n",
    ">> ### 포괄성의 계산 (n: 총 노드의 수, ni: 고립된 노드의 수)\n",
    "        (n - ni)/n\n",
    " \n",
    "## 노드 수준의 속성 \n",
    "> ### *연결 정도* : 해당 노드에 직접 연결되어 있는 노드들의 개수 (or 링크의 개수) \n",
    ">> ### n개의 노드가 존재 -> 각각 노드에 최대 n-1개까지의 연결 정도가 가능 \n",
    ">> ### 연결정도를 통해 '해당 노드가 보여주는 활동성과 영향력 유추 가능'\n",
    "\n",
    "> ### *연결 거리* : 노드간 관계(링크)의 강도 \n",
    ">> ### 두개의 노드들 사이에 존재하는 다양한 링크 중 - *'가장 짧은 연결 경로'*\n",
    ">> ### *평균연결거리* : 모든 노드 쌍의 최단 연결거리의 평균값 \n",
    "\n",
    "> ### *상호성* : 네트워크 상에서 상호적 연결이 차지하는 비율\n",
    "        노드 쌍 기준 상호성: 상호적 연결된 노드 쌍 / 연결된 전체 노드 쌍\n",
    "        링크 기준 상호성 : 상호적 연결된 링크 수 / 연결된 전체 링크 수 \n",
    "\n",
    "> ### *군집화 계수* : 군집화의 정도 - 이웃 노드들 간에 가능한 최대 관계 수 중 실제 존재하는 관계 수의 비율 \n",
    "        지역 군집화 계수 : 이웃 노드들 간에 실제 존재하는 링크 수 / 이웃 노드들 간에 가능한 최대 링크 수(= k x (k-1)/2) \n",
    "        \n",
    "---------------\n",
    " \n",
    " \n",
    " ## 중심성 (Centrality) 지표 \n",
    " > ### 한 노드가 전체 네트워크에서 중심에 위치하는 정도를 표현하는 지표 \n",
    " \n",
    " \n",
    "### 연결정도 중심성 (Degree centrality) \n",
    "> #### 한 노드가 얼마나 많은 다른 노드들과 연결관계를 가지고 있는지 \n",
    "> ##### ex. 얼마나 친구가 많은가\n",
    "            * 절대적 연결정도 중심성 : 노드에 연결된 연결 관계의 수 \n",
    "            * 상대적 연결정도 중심성 : 특정 노드에 연결된 관계 수 / (전체 연결 수 - 1)\n",
    "\n",
    "\n",
    "### 근접 중심성 (Closeness centrality) \n",
    "> #### 한 노드가 얼마나 전체 네트워크의 중심에 근접해 있는지 \n",
    "> ##### 연결거리가 감소 -> 중심성은 증가\n",
    "> ##### ex. 실제로 중요한 사람과 얼마나 가까운가 \n",
    "            * 절대적 근접 중심성 : 1 / 해당 노드와 나머지 모든 노드들 간의 연결거리 합\n",
    "            * 상대적 근접 중심성 : 절대적 근접 중심성 X (총 노드의 수 - 1)\n",
    "\n",
    "### 매개 중심성 (Betweenness centrality) \n",
    "> #### 한 노드가 다른 노드들 간의 네트워크 관계 형성에 있어서 *중재자, 매개자 역할*을 어마나 수행했는지\n",
    "\n",
    "### 아이겐 벡터 중심성 (Eigenvector centrality)\n",
    "> #### 연결된 다른 노드들의 중요도를 함께 반영 \n",
    "> ##### 연결의 질을 보여줌 \n",
    "\n"
   ]
  },
  {
   "cell_type": "markdown",
   "metadata": {},
   "source": [
    "# 소셜 네트워크 분석 - 실습 (Network X)"
   ]
  },
  {
   "cell_type": "code",
   "execution_count": 7,
   "metadata": {},
   "outputs": [],
   "source": [
    "# NetworkX 라이브러리 기본으로 실습 ('https://blog.naver.com/pikachups/222155497246'참조)\n",
    "#기본적으로 필요한 라이브러리 \n",
    "# networkx 라이브러리는 기본적으로 matplotlib와 함께 사용 + 네트워크 시각화 전처리를 위해서 numpy, pandas 임포트\n",
    "import numpy as np\n",
    "import pandas as pd\n",
    "import networkx as nx\n",
    "import matplotlib.pyplot as plt "
   ]
  },
  {
   "cell_type": "markdown",
   "metadata": {},
   "source": [
    "### networks의 객체\n",
    "#### nx.graph() : 식별된 노드의 쌍과 함게 *방향성이 없게* 모은 네트워크 그래프\n",
    "#### nx.Digraph() : 식별된 노드의 쌍과 함게 *방향성이 있게* 모은 네트워크 그래프\n",
    "#### nx.MultiGraph() : 방향성이 없지만, 자기 자신을 순환, 노드 쌍 사이의 여러개의 엣지 등 다양한 형태의 네트워크\n",
    "#### nx.MultiDigraph(): 방향성이 있는 multigraph()"
   ]
  },
  {
   "cell_type": "code",
   "execution_count": 8,
   "metadata": {
    "scrolled": true
   },
   "outputs": [
    {
     "data": {
      "image/png": "[encoded data removed]",
      "text/plain": [
       "<Figure size 432x288 with 1 Axes>"
      ]
     },
     "metadata": {},
     "output_type": "display_data"
    }
   ],
   "source": [
    "G = nx.Graph()\n",
    "G.add_nodes_from(['a','b','c','d'])\n",
    "G.add_edges_from([('a','b'),('a','b'),('b','c'),('b','d'),('a','c'),('b','c'),('c','d'),('c','a')])\n",
    "nx.draw(G, with_labels = True) #with_labes = true 를 통해 노드명을 표기! \n",
    "plt.show()"
   ]
  },
  {
   "cell_type": "markdown",
   "metadata": {},
   "source": [
    "### *가중치* 표현하기"
   ]
  },
  {
   "cell_type": "code",
   "execution_count": 9,
   "metadata": {},
   "outputs": [
    {
     "data": {
      "image/png": "[encoded data removed]",
      "text/plain": [
       "<Figure size 432x288 with 1 Axes>"
      ]
     },
     "metadata": {},
     "output_type": "display_data"
    }
   ],
   "source": [
    "df = ['a','b','c','d','e']\n",
    "edges = [['a','b'],['b','c'],['a','e'],['d','d']] # 마지막 'd','d' 는 자기자신을 순환하는 링크\n",
    "G1 = nx.Graph() #네트워크 객체로 입력\n",
    "\n",
    "G1.add_nodes_from(df) #네트워크에 위에서 정의한 노드를 입력\n",
    "\n",
    "for i in range(len(edges)):\n",
    "    G1.add_edge(edges[i][0],edges[i][1], weight = i) #각 edgs(link)들을 각 노드들에 정의 및 가중치를 부여\n",
    "nx.draw(G1, with_labels = True)\n",
    "plt.show()\n",
    "    "
   ]
  },
  {
   "cell_type": "code",
   "execution_count": 10,
   "metadata": {
    "scrolled": true
   },
   "outputs": [
    {
     "data": {
      "text/plain": [
       "EdgeDataView([('a', 'b', {'weight': 0}), ('a', 'e', {'weight': 2}), ('b', 'c', {'weight': 1}), ('d', 'd', {'weight': 3})])"
      ]
     },
     "execution_count": 10,
     "metadata": {},
     "output_type": "execute_result"
    }
   ],
   "source": [
    "G1.edges(data=True) #위 네트워크에 대한 정보와 가중치를 함께 확인할 수 있다"
   ]
  },
  {
   "cell_type": "markdown",
   "metadata": {},
   "source": [
    "# 'BTS' 키워드를 품고 있는 기사 제목 속 단어들의 연관성 파악하기\n",
    "##### 'https://blog.daum.net/geoscience/1408' 참조\n",
    "\n",
    "## konply 실행 오류로 실패..."
   ]
  },
  {
   "cell_type": "code",
   "execution_count": 11,
   "metadata": {},
   "outputs": [],
   "source": [
    "# NetworkX 패키지를 활용해서 네트워크 그래프를 작성! \n",
    "\n",
    "# 1. Network X 라이브러리를 추가!\n",
    "# 이후 작성의 편의를 위해서 np, pd, nx, plt 등으로 짧게 표현\n",
    "import numpy as np\n",
    "import pandas as pd\n",
    "import re\n",
    "import networkx as nx\n",
    "import matplotlib.pyplot as plt "
   ]
  },
  {
   "cell_type": "code",
   "execution_count": 12,
   "metadata": {},
   "outputs": [],
   "source": [
    "# 'BTS' 라는 키워드가 뉴스 제목에 포함된 뉴스 데이터를 다운\n",
    "bts = open(\"C:/Users/space/캡스톤 수업 과제 및 실습/HW2_소셜 네트워크 분석/BTS_Title.txt\", 'r', encoding = 'cp949')\n",
    "lines = bts.readlines() #파일의 모든 내용을 읽고 리스트에 저장! - 모든 제목들을 리스트로 저장시킴\n",
    "bts.close()"
   ]
  },
  {
   "cell_type": "code",
   "execution_count": 13,
   "metadata": {
    "scrolled": false
   },
   "outputs": [
    {
     "ename": "SystemError",
     "evalue": "java.lang.UnsatisfiedLinkError: Native Library C:\\Users\\space\\AppData\\Local\\Programs\\Python\\Python38\\Lib\\site-packages\\_jpype.cp38-win_amd64.pyd already loaded in another classloader",
     "output_type": "error",
     "traceback": [
      "\u001b[1;31m---------------------------------------------------------------------------\u001b[0m",
      "\u001b[1;31mSystemError\u001b[0m                               Traceback (most recent call last)",
      "\u001b[1;32mC:\\Users\\Public\\Documents\\ESTsoft\\CreatorTemp/ipykernel_16328/1442043381.py\u001b[0m in \u001b[0;36m<module>\u001b[1;34m\u001b[0m\n\u001b[0;32m      1\u001b[0m \u001b[1;31m# python에서 한국어의 NLP(자연어처리)를 하기 위해서 KoNLPy를 사용해야 한다.\u001b[0m\u001b[1;33m\u001b[0m\u001b[1;33m\u001b[0m\u001b[1;33m\u001b[0m\u001b[0m\n\u001b[0;32m      2\u001b[0m \u001b[1;32mfrom\u001b[0m \u001b[0mkonlpy\u001b[0m\u001b[1;33m.\u001b[0m\u001b[0mtag\u001b[0m \u001b[1;32mimport\u001b[0m \u001b[0mHannanum\u001b[0m\u001b[1;33m\u001b[0m\u001b[1;33m\u001b[0m\u001b[0m\n\u001b[1;32m----> 3\u001b[1;33m \u001b[0mhannanum\u001b[0m \u001b[1;33m=\u001b[0m \u001b[0mHannanum\u001b[0m\u001b[1;33m(\u001b[0m \u001b[1;33m)\u001b[0m\u001b[1;33m\u001b[0m\u001b[1;33m\u001b[0m\u001b[0m\n\u001b[0m",
      "\u001b[1;32mc:\\users\\space\\appdata\\local\\programs\\python\\python38\\lib\\site-packages\\konlpy\\tag\\_hannanum.py\u001b[0m in \u001b[0;36m__init__\u001b[1;34m(self, jvmpath, max_heap_size)\u001b[0m\n\u001b[0;32m    106\u001b[0m     \u001b[1;32mdef\u001b[0m \u001b[0m__init__\u001b[0m\u001b[1;33m(\u001b[0m\u001b[0mself\u001b[0m\u001b[1;33m,\u001b[0m \u001b[0mjvmpath\u001b[0m\u001b[1;33m=\u001b[0m\u001b[1;32mNone\u001b[0m\u001b[1;33m,\u001b[0m \u001b[0mmax_heap_size\u001b[0m\u001b[1;33m=\u001b[0m\u001b[1;36m1024\u001b[0m\u001b[1;33m)\u001b[0m\u001b[1;33m:\u001b[0m\u001b[1;33m\u001b[0m\u001b[1;33m\u001b[0m\u001b[0m\n\u001b[0;32m    107\u001b[0m         \u001b[1;32mif\u001b[0m \u001b[1;32mnot\u001b[0m \u001b[0mjpype\u001b[0m\u001b[1;33m.\u001b[0m\u001b[0misJVMStarted\u001b[0m\u001b[1;33m(\u001b[0m\u001b[1;33m)\u001b[0m\u001b[1;33m:\u001b[0m\u001b[1;33m\u001b[0m\u001b[1;33m\u001b[0m\u001b[0m\n\u001b[1;32m--> 108\u001b[1;33m             \u001b[0mjvm\u001b[0m\u001b[1;33m.\u001b[0m\u001b[0minit_jvm\u001b[0m\u001b[1;33m(\u001b[0m\u001b[0mjvmpath\u001b[0m\u001b[1;33m,\u001b[0m \u001b[0mmax_heap_size\u001b[0m\u001b[1;33m)\u001b[0m\u001b[1;33m\u001b[0m\u001b[1;33m\u001b[0m\u001b[0m\n\u001b[0m\u001b[0;32m    109\u001b[0m \u001b[1;33m\u001b[0m\u001b[0m\n\u001b[0;32m    110\u001b[0m         \u001b[0mjhannanumJavaPackage\u001b[0m \u001b[1;33m=\u001b[0m \u001b[0mjpype\u001b[0m\u001b[1;33m.\u001b[0m\u001b[0mJPackage\u001b[0m\u001b[1;33m(\u001b[0m\u001b[1;34m'kr.lucypark.jhannanum.comm'\u001b[0m\u001b[1;33m)\u001b[0m\u001b[1;33m\u001b[0m\u001b[1;33m\u001b[0m\u001b[0m\n",
      "\u001b[1;32mc:\\users\\space\\appdata\\local\\programs\\python\\python38\\lib\\site-packages\\konlpy\\jvm.py\u001b[0m in \u001b[0;36minit_jvm\u001b[1;34m(jvmpath, max_heap_size)\u001b[0m\n\u001b[0;32m     62\u001b[0m \u001b[1;33m\u001b[0m\u001b[0m\n\u001b[0;32m     63\u001b[0m     \u001b[1;32mif\u001b[0m \u001b[0mjvmpath\u001b[0m\u001b[1;33m:\u001b[0m\u001b[1;33m\u001b[0m\u001b[1;33m\u001b[0m\u001b[0m\n\u001b[1;32m---> 64\u001b[1;33m         jpype.startJVM(jvmpath, '-Djava.class.path=%s' % classpath,\n\u001b[0m\u001b[0;32m     65\u001b[0m                                 \u001b[1;34m'-Dfile.encoding=UTF8'\u001b[0m\u001b[1;33m,\u001b[0m\u001b[1;33m\u001b[0m\u001b[1;33m\u001b[0m\u001b[0m\n\u001b[0;32m     66\u001b[0m                                 \u001b[1;34m'-ea'\u001b[0m\u001b[1;33m,\u001b[0m \u001b[1;34m'-Xmx{}m'\u001b[0m\u001b[1;33m.\u001b[0m\u001b[0mformat\u001b[0m\u001b[1;33m(\u001b[0m\u001b[0mmax_heap_size\u001b[0m\u001b[1;33m)\u001b[0m\u001b[1;33m,\u001b[0m\u001b[1;33m\u001b[0m\u001b[1;33m\u001b[0m\u001b[0m\n",
      "\u001b[1;32mc:\\users\\space\\appdata\\local\\programs\\python\\python38\\lib\\site-packages\\jpype\\_core.py\u001b[0m in \u001b[0;36mstartJVM\u001b[1;34m(*args, **kwargs)\u001b[0m\n\u001b[0;32m    224\u001b[0m \u001b[1;33m\u001b[0m\u001b[0m\n\u001b[0;32m    225\u001b[0m     \u001b[1;32mtry\u001b[0m\u001b[1;33m:\u001b[0m\u001b[1;33m\u001b[0m\u001b[1;33m\u001b[0m\u001b[0m\n\u001b[1;32m--> 226\u001b[1;33m         _jpype.startup(jvmpath, tuple(args),\n\u001b[0m\u001b[0;32m    227\u001b[0m                        ignoreUnrecognized, convertStrings, interrupt)\n\u001b[0;32m    228\u001b[0m         \u001b[0minitializeResources\u001b[0m\u001b[1;33m(\u001b[0m\u001b[1;33m)\u001b[0m\u001b[1;33m\u001b[0m\u001b[1;33m\u001b[0m\u001b[0m\n",
      "\u001b[1;31mSystemError\u001b[0m: java.lang.UnsatisfiedLinkError: Native Library C:\\Users\\space\\AppData\\Local\\Programs\\Python\\Python38\\Lib\\site-packages\\_jpype.cp38-win_amd64.pyd already loaded in another classloader"
     ]
    }
   ],
   "source": [
    "# python에서 한국어의 NLP(자연어처리)를 하기 위해서 KoNLPy를 사용해야 한다.\n",
    "from konlpy.tag import Hannanum\n",
    "hannanum = Hannanum( )"
   ]
  },
  {
   "cell_type": "code",
   "execution_count": 6,
   "metadata": {},
   "outputs": [
    {
     "ename": "NameError",
     "evalue": "name 'hannanum' is not defined",
     "output_type": "error",
     "traceback": [
      "\u001b[1;31m---------------------------------------------------------------------------\u001b[0m",
      "\u001b[1;31mNameError\u001b[0m                                 Traceback (most recent call last)",
      "\u001b[1;32mC:\\Users\\Public\\Documents\\ESTsoft\\CreatorTemp/ipykernel_16328/1094156123.py\u001b[0m in \u001b[0;36m<module>\u001b[1;34m\u001b[0m\n\u001b[0;32m      3\u001b[0m \u001b[0mdataset\u001b[0m \u001b[1;33m=\u001b[0m\u001b[1;33m[\u001b[0m\u001b[1;33m]\u001b[0m\u001b[1;33m\u001b[0m\u001b[1;33m\u001b[0m\u001b[0m\n\u001b[0;32m      4\u001b[0m \u001b[1;32mfor\u001b[0m \u001b[0mi\u001b[0m \u001b[1;32min\u001b[0m \u001b[0mrange\u001b[0m\u001b[1;33m(\u001b[0m\u001b[0mlen\u001b[0m\u001b[1;33m(\u001b[0m\u001b[0mlines\u001b[0m\u001b[1;33m)\u001b[0m\u001b[1;33m)\u001b[0m\u001b[1;33m:\u001b[0m\u001b[1;33m\u001b[0m\u001b[1;33m\u001b[0m\u001b[0m\n\u001b[1;32m----> 5\u001b[1;33m     \u001b[0mdataset\u001b[0m\u001b[1;33m.\u001b[0m\u001b[0mappend\u001b[0m\u001b[1;33m(\u001b[0m\u001b[0mhannanum\u001b[0m\u001b[1;33m.\u001b[0m\u001b[0mnouns\u001b[0m\u001b[1;33m(\u001b[0m\u001b[0mre\u001b[0m\u001b[1;33m.\u001b[0m\u001b[0msub\u001b[0m\u001b[1;33m(\u001b[0m\u001b[1;34m'[^가-힣a-zA-ZWs]'\u001b[0m\u001b[1;33m,\u001b[0m\u001b[1;34m' '\u001b[0m\u001b[1;33m,\u001b[0m\u001b[0mlines\u001b[0m\u001b[1;33m[\u001b[0m\u001b[0mi\u001b[0m\u001b[1;33m]\u001b[0m\u001b[1;33m)\u001b[0m\u001b[1;33m)\u001b[0m\u001b[1;33m)\u001b[0m\u001b[1;33m\u001b[0m\u001b[1;33m\u001b[0m\u001b[0m\n\u001b[0m\u001b[0;32m      6\u001b[0m \u001b[0mdataset\u001b[0m\u001b[1;33m[\u001b[0m\u001b[1;33m:\u001b[0m\u001b[1;36m10\u001b[0m\u001b[1;33m]\u001b[0m\u001b[1;33m\u001b[0m\u001b[1;33m\u001b[0m\u001b[0m\n",
      "\u001b[1;31mNameError\u001b[0m: name 'hannanum' is not defined"
     ]
    }
   ],
   "source": [
    "#이때, 기사 제목들 속에서 오직 단어들을 추출하기 위해 단어들의 전처리가 필요합니다. \n",
    "#위 제목들을 2차원의 리스트 형태로 추출한다\n",
    "dataset =[]\n",
    "for i in range(len(lines)):\n",
    "    dataset.append(hannanum.nouns(re.sub('[^가-힣a-zA-ZWs]',' ',lines[i])))\n",
    "dataset[:10]\n"
   ]
  },
  {
   "cell_type": "code",
   "execution_count": null,
   "metadata": {},
   "outputs": [],
   "source": []
  }
 ],
 "metadata": {
  "kernelspec": {
   "display_name": "Python 3 (ipykernel)",
   "language": "python",
   "name": "python3"
  },
  "language_info": {
   "codemirror_mode": {
    "name": "ipython",
    "version": 3
   },
   "file_extension": ".py",
   "mimetype": "text/x-python",
   "name": "python",
   "nbconvert_exporter": "python",
   "pygments_lexer": "ipython3",
   "version": "3.8.6"
  }
 },
 "nbformat": 4,
 "nbformat_minor": 4
}
